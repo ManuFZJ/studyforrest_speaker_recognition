{
 "cells": [
  {
   "cell_type": "code",
   "execution_count": 11,
   "metadata": {},
   "outputs": [],
   "source": [
    "from pathlib import Path\n",
    "import nibabel as nib\n",
    "from scipy import ndimage\n",
    "from nilearn.image import load_img\n",
    "\n",
    "project_dir = Path.cwd().parents[0]\n",
    "mask = str(project_dir.joinpath(\"data\", \"speakers_association-test_z_FDR_0.01.nii.gz\"))\n",
    "new_mask_p = str(project_dir.joinpath(\"data\", \"tmp\", \"test.nii.gz\"))\n",
    "\n",
    "mask = nib.load(mask)\n",
    "mask_data = mask.get_fdata()\n",
    "mask_bool = mask_data.astype(bool)\n",
    "\n",
    "mask_bool_dil = ndimage.binary_dilation(mask_bool)\n",
    "\n",
    "new_mask = nil.image.new_img_like(mask, mask_bool_dil, affine=mask.affine)\n",
    "\n",
    "nib.save(new_mask, new_mask_p)\n",
    "\n",
    "# Ergebnis gerade schlechter als vorher"
   ]
  },
  {
   "cell_type": "code",
   "execution_count": null,
   "metadata": {},
   "outputs": [],
   "source": []
  }
 ],
 "metadata": {
  "kernelspec": {
   "display_name": "Python 2",
   "language": "python",
   "name": "python2"
  }
 },
 "nbformat": 4,
 "nbformat_minor": 2
}
