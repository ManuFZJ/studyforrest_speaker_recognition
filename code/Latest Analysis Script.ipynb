{
 "cells": [
  {
   "cell_type": "code",
   "execution_count": 2,
   "metadata": {},
   "outputs": [],
   "source": [
    "# If an import error occurs try: \n",
    "# \"pip install attrs==19.1.0\" in the cmd\n",
    "from pathlib import Path\n",
    "import numpy as np\n",
    "import pylab as pl\n",
    "from numpy.testing.decorators import skipif\n",
    "import mvpa2.suite as mvpa\n",
    "from mvpa2.measures import rsa\n",
    "import utility_functions as uf"
   ]
  },
  {
   "cell_type": "code",
   "execution_count": 3,
   "metadata": {},
   "outputs": [
    {
     "name": "stdout",
     "output_type": "stream",
     "text": [
      "BOLD files directory found: \n",
      " /home/arkani/Desktop/studyforrest_speaker_recognition/data/studyforrest-data-aligned\n",
      "\n",
      "Annotation files directory found: \n",
      " /home/arkani/Desktop/studyforrest_speaker_recognition/data/studyforrest-data-annotations\n",
      "\n",
      "Template files directory found: \n",
      " /home/arkani/Desktop/studyforrest_speaker_recognition/data/studyforrest-data-templatetransforms\n",
      "\n"
     ]
    }
   ],
   "source": [
    "# Wider Output\n",
    "np.set_printoptions(edgeitems=20)\n",
    "\n",
    "# Project Directory\n",
    "project_dir = Path.cwd().parents[0]\n",
    "\n",
    "# BOLD Files Directory\n",
    "data_dir = project_dir.joinpath(\"data\", \"studyforrest-data-aligned\")\n",
    "if data_dir.is_dir():\n",
    "    print(\"BOLD files directory found: \\n {}\\n\".format(data_dir))\n",
    "else:\n",
    "    print(\"There is something wrong with the folder structure of the BOLD files\\n\")\n",
    "\n",
    "# Anno Files Directory\n",
    "anno_dir = project_dir.joinpath(\"data\", \"studyforrest-data-annotations\")\n",
    "if anno_dir.is_dir():\n",
    "    print(\"Annotation files directory found: \\n {}\\n\".format(anno_dir))\n",
    "else:\n",
    "    print(\"There is something wrong with the folder structure of the annotation files\\n\")\n",
    "\n",
    "# Template Directory\n",
    "template_dir = project_dir.joinpath(\"data\", \"studyforrest-data-templatetransforms\")\n",
    "if template_dir.is_dir():\n",
    "    print(\"Template files directory found: \\n {}\\n\".format(template_dir))\n",
    "else:\n",
    "    print(\"There is something wrong with the folder structure of the template files\\n\")"
   ]
  },
  {
   "cell_type": "code",
   "execution_count": 4,
   "metadata": {},
   "outputs": [
    {
     "name": "stdout",
     "output_type": "stream",
     "text": [
      "BOLD files availability test: \n",
      " all Bold files are available\n",
      "\n",
      "Annotation files availability test: \n",
      " all Annotation files are available\n",
      "\n",
      "Warp files availability test: \n",
      " all warp files are available\n",
      "\n"
     ]
    }
   ],
   "source": [
    "# Get Participant Files\n",
    "ao_files = uf.get_files(data_dir, '*aomovie*nii.gz')\n",
    "av_files = uf.get_files(data_dir, '*avmovie*nii.gz')\n",
    "\n",
    "# Get Annotation Files\n",
    "ao_anno_files = uf.get_files(anno_dir, '*emotions*ao*run*.tsv')\n",
    "av_anno_files = uf.get_files(anno_dir, '*emotions*av*run*.tsv')\n",
    "\n",
    "# Get Warp Files\n",
    "ref = str(template_dir.joinpath(\"templates\", \"grpbold3Tp2\", \"brain.nii.gz\"))\n",
    "warp_files = uf.get_files(template_dir, '*subj2tmpl_warp*.nii.gz')\n",
    "\n",
    "# Check if all participant files are available\n",
    "if (len(ao_files) == 112 and len(av_files) == 120):\n",
    "    print(\"BOLD files availability test: \\n all Bold files are available\\n\")\n",
    "elif (len(ao_files) != 112 or len(av_files) != 120):\n",
    "    if (len(ao_files) != 112):\n",
    "        print(\"\"\"BOLD files availability test:\n",
    "              you are missing BOLD Files of the AO-movie runs\\n\"\"\")\n",
    "    elif (len(av_files) != 120):\n",
    "        print(\"\"\"BOLD files availability test:\n",
    "              you are missing BOLD files of the AV-movie runs\\n\"\"\")\n",
    "\n",
    "# Check if all annotation files are available\n",
    "if (len(ao_anno_files) == 8 and len(av_anno_files) == 8):\n",
    "    print(\"Annotation files availability test: \\n all Annotation files are available\\n\")\n",
    "elif (len(ao_anno_files) != 8 or len(av_anno_files) != 8):\n",
    "    if (len(ao_anno_files) != 8):\n",
    "        print(\"\"\"Annotation files availability test:\n",
    "        you are missing annotation files of the AO-movie runs\\n\"\"\")\n",
    "    elif (len(av_anno_files) != 8):\n",
    "        print(\"\"\"Annotation files availability test:\n",
    "        you are missing annotation files of the AV-movie runs\\n\"\"\")\n",
    "\n",
    "# Check if all warp files are available\n",
    "if (len(warp_files)) == 15:\n",
    "    print(\"Warp files availability test: \\n all warp files are available\\n\")\n",
    "else:\n",
    "    print(\"\"\"Annotation files availability test: \\nyou are missing warp files\\n\"\"\")"
   ]
  },
  {
   "cell_type": "code",
   "execution_count": 6,
   "metadata": {},
   "outputs": [
    {
     "name": "stdout",
     "output_type": "stream",
     "text": [
      "This is the shape of the dataset that will be used in the following Analysis: (268, 4840)\n",
      "\n",
      "Used mask file: \n",
      "/home/arkani/Desktop/studyforrest_speaker_recognition/data/speakers_association-test_z_FDR_0.01.nii.gz\n",
      "\n",
      "The following unique events will be included: ['FORREST' 'FORRESTVO' 'JENNY' 'MRSGUMP']\n",
      "The number of included events amounts to: 268\n",
      "\n",
      "<DatasetAttributesCollection: imgaffine,imgtype,voxel_dim,voxel_eldim>\n",
      "<FeatureAttributesCollection: event_offsetidx,voxel_indices>\n",
      "<SampleAttributesCollection: chunks,duration,event_onsetidx,onset,orig_duration,orig_offset,orig_onset,participant,targets,time_coords,time_indices>\n"
     ]
    }
   ],
   "source": [
    "## Prepare Dataset (raw Signal)\n",
    "mask = str(project_dir.joinpath(\"data\", \"speakers_association-test_z_FDR_0.01.nii.gz\"))\n",
    "# targets = ['FORREST', 'MRSGUMP', 'FORRESTVO', 'FORRESTJR', 'BUBBA', 'DAN', 'JENNY']\n",
    "targets = ['FORREST', 'MRSGUMP', 'FORRESTVO', 'JENNY']\n",
    "\n",
    "ds = uf.preprocess_datasets(av_files[0:2], ref_space=ref, warp_files=warp_files, mask=mask, \n",
    "                            detrending=True, use_zscore=True, use_events=True, anno_dir=anno_dir, \n",
    "                            use_glm_estimates=False, targets=targets, event_offset=2, event_dur=6)\n",
    "\n",
    "print(\"This is the shape of the dataset that will be used in the following Analysis: {}\\n\".format(ds.shape))\n",
    "\n",
    "print(\"Used mask file: \\n{}\\n\".format(mask))\n",
    "\n",
    "all_events = ds.sa.targets\n",
    "unique_events = np.unique(all_events)\n",
    "num_events = len(ds.sa.targets)\n",
    "\n",
    "print(\"The following unique events will be included: {}\".format(unique_events))\n",
    "print(\"The number of included events amounts to: {}\\n\".format(num_events))\n",
    "\n",
    "print(ds.a)\n",
    "print(ds.fa)\n",
    "print(ds.sa)"
   ]
  },
  {
   "cell_type": "code",
   "execution_count": null,
   "metadata": {},
   "outputs": [],
   "source": [
    "# Save Dataset\n",
    "ds_save_p = project_dir.joinpath(\"data\", \"tmp\", \"preprocessed_ds.hdf5\")\n",
    "if os.path.isfile(str(ds_save_p)):\n",
    "    ds = h5load(ds_save_p)\n",
    "else:\n",
    "    h5save(ds_save_p, ds, compression=9)"
   ]
  },
  {
   "cell_type": "code",
   "execution_count": 10,
   "metadata": {},
   "outputs": [
    {
     "name": "stdout",
     "output_type": "stream",
     "text": [
      "0.9253731343283582\n"
     ]
    }
   ],
   "source": [
    "# Normal Classifier Analysis\n",
    "clf = mvpa.kNN(k=1, dfx=mvpa.one_minus_correlation, voting='majority')\n",
    "clf.train(ds)\n",
    "predictions = clf.predict(ds.samples)\n",
    "print(np.mean(predictions == ds.sa.targets))"
   ]
  },
  {
   "cell_type": "code",
   "execution_count": 38,
   "metadata": {},
   "outputs": [
    {
     "name": "stdout",
     "output_type": "stream",
     "text": [
      "This is the shape of the dataset that will be used in the following Analysis: (268, 4840)\n",
      "\n",
      "Used mask file: \n",
      "/home/arkani/Desktop/studyforrest_speaker_recognition/data/speakers_association-test_z_FDR_0.01.nii.gz\n",
      "\n",
      "The following unique events will be included: ['FORREST' 'FORRESTVO' 'JENNY' 'MRSGUMP']\n",
      "The number of included events amounts to: 268\n",
      "\n",
      "<DatasetAttributesCollection: imgaffine,imgtype,voxel_dim,voxel_eldim>\n",
      "<FeatureAttributesCollection: event_offsetidx,voxel_indices>\n",
      "<SampleAttributesCollection: chunks,duration,event_onsetidx,onset,orig_duration,orig_offset,orig_onset,participant,targets,time_coords,time_indices>\n"
     ]
    },
    {
     "data": {
      "image/png": "[encoded data removed]",
      "text/plain": [
       "<Figure size 432x288 with 2 Axes>"
      ]
     },
     "metadata": {
      "needs_background": "light"
     },
     "output_type": "display_data"
    }
   ],
   "source": [
    "# RSA\n",
    "mtgs = mvpa.mean_group_sample(['targets'])\n",
    "mtds = mtgs(ds)\n",
    "dsm = rsa.PDist(square=True)\n",
    "res = dsm(mtds)\n",
    "\n",
    "## Graphical Results\n",
    "def plot_mtx(mtx, labels, title):\n",
    "    pl.figure()\n",
    "    pl.imshow(mtx, interpolation='nearest')\n",
    "    pl.xticks(range(len(mtx)), labels, rotation=-45)\n",
    "    pl.yticks(range(len(mtx)), labels)\n",
    "    pl.title(title)\n",
    "    pl.clim((0, 2))\n",
    "    pl.colorbar()\n",
    "\n",
    "plot_mtx(res, mtds.sa.targets, 'ROI pattern correlation distances')\n",
    "pl.show()"
   ]
  },
  {
   "cell_type": "code",
   "execution_count": 9,
   "metadata": {},
   "outputs": [
    {
     "name": "stdout",
     "output_type": "stream",
     "text": [
      "This is the Dataset that will be used in the following Analysis:\n",
      "<Dataset: 4x166148@float64, <sa: regressors,targets>, <fa: voxel_indices>, <a: add_regs,imgaffine,imghdr,imgtype,mapper,voxel_dim,voxel_eldim>>\n",
      "\n",
      "Used mask file: \n",
      "/home/arkani/Desktop/studyforrest_speaker_recognition/data/speakers_association-test_z_FDR_0.01.nii.gz\n",
      "\n",
      "<SampleAttributesCollection: regressors,targets>\n",
      "<FeatureAttributesCollection: voxel_indices>\n",
      "<DatasetAttributesCollection: add_regs,imgaffine,imghdr,imgtype,mapper,voxel_dim,voxel_eldim>\n",
      "\n",
      "GLM Estimates were computed for the following targets: ['FORREST' 'FORRESTVO' 'JENNY' 'MRSGUMP']\n",
      "\n"
     ]
    }
   ],
   "source": [
    "## MVPA (GLM Estimates)\n",
    "    # useful when: multiple concurrent signals are overlapping in time, such as in \n",
    "    # fast event-related designs\n",
    "    # GLM estimates instead of raw data\n",
    "\n",
    "# only 1 ds as input possible otherwise unstackable\n",
    "# modify event dicts and stack datasets before event detection to make this work?\n",
    "    \n",
    "# Create Datset\n",
    "mask_files = uf.get_files(project_dir, '*association*.nii.gz')\n",
    "mask = mask_files[0]\n",
    "# targets = ['FORREST', 'MRSGUMP', 'FORRESTVO', 'FORRESTJR', 'BUBBA', 'DAN', 'JENNY']\n",
    "# vstack Probleme wenn nicht in allen Runs die gleichen Targets gefunden werden?\n",
    "targets = ['FORREST', 'MRSGUMP', 'FORRESTVO', 'FORRESTJR', 'DAN', 'JENNY']\n",
    "ds = uf.preprocess_datasets(av_files[0], ref_space=ref, warp_files=warp_files, \n",
    "                            mask=mask, detrending=True, use_zscore=True, \n",
    "                            use_events=True, anno_dir=anno_dir, use_glm_estimates=True,\n",
    "                            targets=targets, event_offset=2, event_dur=6)\n",
    "\n",
    "print(\"This is the Dataset that will be used in the following Analysis:\")\n",
    "print(\"{}\\n\".format(ds))\n",
    "\n",
    "print(\"Used mask file: \\n{}\\n\".format(mask))\n",
    "print(ds.sa)\n",
    "print(ds.fa)\n",
    "print(ds.a)\n",
    "\n",
    "print(\"\\nGLM Estimates were computed for the following targets: {}\\n\".format(ds.sa.targets))\n",
    "\n",
    "# cross-validation Analysis with a chosen Classifier\n",
    "clf = mvpa.kNN(k=1, dfx=mvpa.one_minus_correlation, voting='majority')\n",
    "cv = mvpa.CrossValidation(clf, mvpa.NFoldPartitioner(attr='chunks'))\n",
    "# cv_glm = cv(ds)\n",
    "# print('%.2f' % np.mean(cv_glm))"
   ]
  },
  {
   "cell_type": "code",
   "execution_count": null,
   "metadata": {},
   "outputs": [],
   "source": [
    "# kürzere code lines (pylint)\n",
    "\n",
    "# vstack Probleme\n",
    "    # glm estimates erzeugen Problem\n",
    "    \n",
    "# mask\n",
    "    # restrict mask to ROIs\n",
    "    # nilearn Methode: another Mask, Überschneidung, dann Dilatation\n",
    "    # wie Info aus Atlanten verwenden? \n",
    "        # ROI representations in xml files (Bsp.: \"/usr/share/data/mni-structural-atlas/MNI.xml\")\n",
    "            # Definition des ROIs für MNI 1mm\n",
    "            # wie ROI Info anpassen an Grp Space\n",
    "\n",
    "# Tests\n",
    "    # Regression Tests: \n",
    "        # 1. finaler Code: Ergebnis speichern, \n",
    "        # nach Code Änderungen gucken, ob das gleiche rauskommt\n",
    "        # über mvpa.seed Zufallswert festlegen, sonst entstehen \n",
    "        # jedes mal andere Ergebnisse\n",
    "    # Unit tests\n",
    "        # gucken ob output in richtiger relation zu input\n",
    "        # zb gleiche m x n konfusionsmatrix\n",
    "    # Datenintegritätschecks\n",
    "        # für argument x wirklich eine Liste / str angegeben\n",
    "    \n",
    "# Vorgehensweise\n",
    "    # jeden einzelnen Run mit dem jeweiligen Template für die VP in den Gruppenspace\n",
    "        # sind momentan alle nur innerhalb der VP aligned\n",
    "    # Maske an Gruppenraum anpassen\n",
    "    # Maske bearbeiten (nur Sprachareale)"
   ]
  }
 ],
 "metadata": {
  "kernelspec": {
   "display_name": "Python 2",
   "language": "python",
   "name": "python2"
  },
  "language_info": {
   "codemirror_mode": {
    "name": "ipython",
    "version": 2
   },
   "file_extension": ".py",
   "mimetype": "text/x-python",
   "name": "python",
   "nbconvert_exporter": "python",
   "pygments_lexer": "ipython2",
   "version": "2.7.17"
  }
 },
 "nbformat": 4,
 "nbformat_minor": 2
}
