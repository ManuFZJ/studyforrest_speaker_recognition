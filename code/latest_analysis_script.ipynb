{
 "cells": [
  {
   "cell_type": "code",
   "execution_count": 2,
   "metadata": {},
   "outputs": [],
   "source": [
    "# If an import error occurs try: \n",
    "# pip install attrs==19.1.0\n",
    "# in the cmd\n",
    "from pathlib import Path\n",
    "import numpy as np\n",
    "import pylab as pl\n",
    "from numpy.testing.decorators import skipif\n",
    "import mvpa2.suite as mvpa\n",
    "from mvpa2.measures import rsa\n",
    "import utility_functions as uf"
   ]
  },
  {
   "cell_type": "code",
   "execution_count": 3,
   "metadata": {},
   "outputs": [
    {
     "name": "stdout",
     "output_type": "stream",
     "text": [
      "All directories seem to be properly set up\n",
      "\n",
      "All file lists seem to be complete\n",
      "\n"
     ]
    }
   ],
   "source": [
    "# Wider Output\n",
    "np.set_printoptions(edgeitems=20)\n",
    "\n",
    "# Project Directory\n",
    "project_dir = Path.cwd().parents[0]\n",
    "\n",
    "# BOLD Files Directory\n",
    "data_dir = project_dir.joinpath(\"data\", \"studyforrest-data-aligned\")\n",
    "\n",
    "# Anno Files Directory\n",
    "anno_dir = project_dir.joinpath(\"data\", \"studyforrest-data-annotations\")\n",
    "\n",
    "# Template Directory\n",
    "template_dir = project_dir.joinpath(\"data\", \"studyforrest-data-templatetransforms\")\n",
    "\n",
    "# Mask Directory\n",
    "mask_dir = project_dir.joinpath(\"data\", \"masks\")\n",
    "roi_mask_dir = project_dir.joinpath(\"data\", \"masks\", \"roi_masks\")\n",
    "\n",
    "# Get Participant Files\n",
    "ao_files = uf.get_files(data_dir, '*aomovie*nii.gz')\n",
    "av_files = uf.get_files(data_dir, '*avmovie*nii.gz')\n",
    "\n",
    "# Get ROI Files\n",
    "roi_masks_list = uf.get_files(roi_mask_dir, '*.nii.gz')\n",
    "\n",
    "# Get Annotation Files\n",
    "new_anno_dir = project_dir.joinpath(\"data\", \"tmp\", \"speech_anno\")\n",
    "ao_anno_files = uf.get_files(new_anno_dir.joinpath(\"aomovie\"), '*.tsv')\n",
    "av_anno_files = uf.get_files(new_anno_dir.joinpath(\"avmovie\"), '*.tsv')\n",
    "\n",
    "#/home/arkani/Desktop/studyforrest_speaker_recognition/data/tmp/speech_anno/aomovie\n",
    "\n",
    "# Reference Space\n",
    "ref = template_dir.joinpath(\"templates\", \"grpbold3Tp2\", \"brain.nii.gz\")\n",
    "\n",
    "# Warp Files\n",
    "warp_files = uf.get_files(template_dir, '*subj2tmpl_warp*.nii.gz')\n",
    "\n",
    "# Check if all components are good to go\n",
    "path_list = [project_dir, data_dir, anno_dir, template_dir, ref]\n",
    "file_lists = [ao_files, av_files, ao_anno_files, av_anno_files, warp_files, roi_masks_list]\n",
    "\n",
    "check = uf.check_all_components(path_list, file_lists)\n",
    "print \"{}\\n\".format(check[0])\n",
    "print \"{}\\n\".format(check[1])"
   ]
  },
  {
   "cell_type": "code",
   "execution_count": 7,
   "metadata": {},
   "outputs": [
    {
     "name": "stdout",
     "output_type": "stream",
     "text": [
      "Shape of the dataset: (994, 307224)\n",
      "\n",
      "Mask used: \n",
      "/home/arkani/Desktop/studyforrest_speaker_recognition/data/masks/gm_mni_nilearn_mask_adjusted.nii.gz\n",
      "\n",
      "Included unique events: ['FORREST' 'FORREST (V.O.)' 'LT. DAN' 'MRS. GUMP']\n",
      "Number of included events: 994\n",
      "\n",
      "<DatasetAttributesCollection: imgaffine,imgtype,voxel_dim,voxel_eldim>\n",
      "<FeatureAttributesCollection: IPL,aSTS,event_offsetidx,mSTS,pSTS,voxel_indices>\n",
      "<SampleAttributesCollection: chunks,duration,event_onsetidx,onset,orig_duration,orig_offset,orig_onset,participant,person,time_coords,time_indices>\n"
     ]
    }
   ],
   "source": [
    "# DS\n",
    "ds_save_p = project_dir.joinpath(\"data\", \"tmp\",\"preprocessed_ds.hdf5\")\n",
    "\n",
    "# Maske schließt noch zu viel ein (combi aus allen roi masken besser)\n",
    "mask = project_dir.joinpath(\"data\", \"masks\", \"gm_mni_nilearn_mask_adjusted.nii.gz\")\n",
    "\n",
    "# targets = ['FORREST', 'MRSGUMP', 'FORRESTVO', 'JENNY', 'FORRESTJR', 'BUBBA', 'DAN']\n",
    "targets = ['FORREST', 'MRS. GUMP', 'FORREST (V.O.)', 'LT. DAN']\n",
    "roi_info = uf.prepare_roi_info(roi_masks_list)\n",
    "\n",
    "# each run for each participant will be preprocessed individually\n",
    "ds = uf.load_create_save_ds(ds_save_p, av_files[0:16], ref_space=ref, warp_files=warp_files,\n",
    "                            mask=mask, detrending=\"polynomial\", use_zscore=True, use_events=True,\n",
    "                            anno_dir=new_anno_dir, use_glm_estimates=False, targets=targets,\n",
    "                            event_offset=0, event_dur=4, rois=roi_info)\n",
    "\n",
    "print \"Shape of the dataset: {}\\n\".format(ds.shape)\n",
    "\n",
    "print \"Mask used: \\n{}\\n\".format(mask)\n",
    "\n",
    "all_events = ds.sa.person\n",
    "unique_events = np.unique(all_events)\n",
    "num_events = len(ds.sa.person) # 5048\n",
    "\n",
    "print \"Included unique events: {}\".format(unique_events)\n",
    "print \"Number of included events: {}\\n\".format(num_events)\n",
    "\n",
    "print ds.a\n",
    "print ds.fa\n",
    "print ds.sa\n",
    "\n",
    "# verwendete Zeiteinheit nach event detection: ms\n",
    "\n",
    "# noch zu viele voxel eingeschlossen\n",
    "    # später wird als maske der Zusammenschluss aller roi masken verwendet"
   ]
  },
  {
   "cell_type": "code",
   "execution_count": null,
   "metadata": {},
   "outputs": [],
   "source": [
    "### Aktuelle Situation\n",
    "    # Speech Anno Infos werden jetzt verwendet, RSA Matrix interpretierbar ;)\n",
    "        # Auswahl der events: jedes event nach sprecherwechsel\n",
    "        \n",
    "    # Mask Function komplett neu (jetzt wirklich binär)\n",
    "        # aber ROI masken schließen noch zu viel ein\n",
    "        # gm mask, unklar ob dilation hierbei sinnvoll\n",
    "        # vllt. andere ressourcen als neurosynth?\n",
    "            # atlas info in grp_spc resamplen?\n",
    "        \n",
    "    # mit HT Condor versuch ich mich noch vor dem call stärker zu beschäfigen"
   ]
  },
  {
   "cell_type": "code",
   "execution_count": null,
   "metadata": {},
   "outputs": [],
   "source": [
    "# wie führe ich die analyse auf dem cluster aus?\n",
    "    # HTCondor Infos durchlesen\n",
    "        # https://docs.inm7.de/tools/htcondor/ \n",
    "        # https://docs.inm7.de/cluster/htcondor/ \n",
    "    # mit minimal script ausprobieren\n",
    "\n",
    "\n",
    "# lieber ohne event offset wenn kein averaging\n",
    "# offset wenn mit averaging\n",
    "## so eher für block design\n",
    "## gucken ob stimulus block design mäßig ist\n",
    "\n",
    "\n",
    "# Analyse\n",
    "    # Forrest, Forrest VO, Dan, Jenny\n",
    "    # selbe anzahl von zufälligen samples für die einzelnen identities ziehen (aus allen einzelnen runs?)\n",
    "    # für training set zb 100 pro identity\n",
    "    # prediction für was übrig ist"
   ]
  },
  {
   "cell_type": "code",
   "execution_count": 9,
   "metadata": {
    "scrolled": true
   },
   "outputs": [],
   "source": [
    "# Prep Speech Anno\n",
    "# used cmd commands\n",
    "    # python researchcut2segments.py fg_rscut_ad_ger_speech_tagged.tsv \"avmovie\" \"avmovie\" .\n",
    "    # python researchcut2segments.py fg_rscut_ad_ger_speech_tagged.tsv \"aomovie\" \"aomovie\" .\n",
    "\n",
    "# speechanno event selection\n",
    "    # erstes event nach speaker change\n",
    "    # duration wird von boxcar func auf 3 gesetzt"
   ]
  },
  {
   "cell_type": "code",
   "execution_count": null,
   "metadata": {},
   "outputs": [],
   "source": [
    "## Mask War\n",
    "    # Neuer Ansatz mit grey matter mask\n",
    "        # Erstellprozess: resampled MNI Grey Matter mask to grp_space, made values binary\n",
    "        # Überschneidung zwischen binary resampled gm mask und dilatated roi mask\n",
    "\n",
    "        # Sonderfall anterior temporal mask --> Überschneidung mit sts mask --> überschneidung vom Ergebnis\n",
    "        # mit gm mask\n",
    "\n",
    "        # dilation verwenden!\n",
    "        # dilatation --> graue substanz maske --> roi maske\n",
    "\n",
    "    # noch zu viele unpassende Datenpunkte enthalten in den roi masks\n",
    "    # rumspielen und logical_not verwenden? um gut begrenzte ROI-masks zu generieren\n",
    "        # logical_or überschreibt false mit true? --> damit maske mit allen rois erstellen\n",
    "            # dient dann als standard mask für ds\n",
    "    \n",
    "ori_mask = \"/home/arkani/Desktop/studyforrest_speaker_recognition/data/tmp/masks_tmp/ipl_association-test_z_FDR_0.01_adjusted.nii.gz\"\n",
    "ref_space = ref\n",
    "overlap_mask = \"/home/arkani/Desktop/studyforrest_speaker_recognition/data/tmp/masks_tmp/gm_mni_nilearn_mask.nii.gz\"\n",
    "\n",
    "\n",
    "new_mask = uf.get_adjusted_mask(ori_mask, ref_space) # , overlap_mask=overlap_mask"
   ]
  },
  {
   "cell_type": "code",
   "execution_count": 12,
   "metadata": {},
   "outputs": [
    {
     "name": "stdout",
     "output_type": "stream",
     "text": [
      "(2276, 381)\n",
      "(2276, 156)\n"
     ]
    }
   ],
   "source": [
    "print ds[:, ds.fa.psts != 0].shape\n",
    "print ds[:, ds.fa.mtg != 0].shape"
   ]
  },
  {
   "cell_type": "code",
   "execution_count": 8,
   "metadata": {},
   "outputs": [
    {
     "data": {
      "image/png": "[encoded data removed]",
      "text/plain": [
       "<Figure size 432x288 with 2 Axes>"
      ]
     },
     "metadata": {
      "needs_background": "light"
     },
     "output_type": "display_data"
    }
   ],
   "source": [
    "# RSA\n",
    "mtgs = mvpa.mean_group_sample(['person'])\n",
    "mtds = mtgs(ds)\n",
    "dsm = rsa.PDist(square=True)\n",
    "res = dsm(mtds)\n",
    "\n",
    "## Graphical Results\n",
    "def plot_mtx(mtx, labels, title):\n",
    "    pl.figure()\n",
    "    pl.imshow(mtx, interpolation='nearest')\n",
    "    pl.xticks(range(len(mtx)), labels, rotation=-45)\n",
    "    pl.yticks(range(len(mtx)), labels)\n",
    "    pl.title(title)\n",
    "    pl.clim((0, 2))\n",
    "    pl.colorbar()\n",
    "\n",
    "plot_mtx(res, mtds.sa.person, 'ROI pattern correlation distances')\n",
    "pl.show()"
   ]
  },
  {
   "cell_type": "code",
   "execution_count": 9,
   "metadata": {},
   "outputs": [],
   "source": [
    "# Normal Classifier Analysis\n",
    "clf = mvpa.kNN(k=1, dfx=mvpa.one_minus_correlation, voting='majority')\n",
    "\n",
    "#clf.train(ds_split1)\n",
    "\n",
    "#predictions = clf.predict(ds_split2.samples)\n",
    "#print(np.mean(predictions == ds_split2.sa.targets))"
   ]
  },
  {
   "cell_type": "code",
   "execution_count": 8,
   "metadata": {},
   "outputs": [
    {
     "name": "stdout",
     "output_type": "stream",
     "text": [
      "[[0.07462687]]\n",
      "0.7780225988700564\n",
      "0.22197740112994352\n",
      "[[0.23728814]\n",
      " [0.20666667]]\n"
     ]
    }
   ],
   "source": [
    "# Testing\n",
    "clf.set_postproc(mvpa.BinaryFxNode(mvpa.mean_mismatch_error, 'targets'))\n",
    "clf.train(ds)\n",
    "err = clf(ds)\n",
    "print err.samples\n",
    "\n",
    "clf = mvpa.kNN(k=1, dfx=mvpa.one_minus_correlation, voting='majority')\n",
    "cvte = mvpa.CrossValidation(clf, mvpa.HalfPartitioner(attr='chunks'))\n",
    "cv_results = cvte(ds)\n",
    "print np.mean(cv_results)\n",
    "\n",
    "cvte = mvpa.CrossValidation(clf, mvpa.HalfPartitioner(attr='chunks'),\n",
    "                       errorfx=lambda p, t: np.mean(p == t))\n",
    "cv_results = cvte(ds)\n",
    "print np.mean(cv_results)\n",
    "print cv_results.samples\n",
    "\n",
    "\n",
    "cvte = mvpa.CrossValidation(clf, mvpa.NFoldPartitioner(cvtype=1), \n",
    "                            errorfx=lambda p, t: np.mean(p == t),\n",
    "                            enable_ca=['stats'])\n",
    "# cv_results = cvte(ds)\n",
    "# print(cvte.ca.stats.as_string(description=True))\n",
    "# print(cvte.ca.stats.matrix)"
   ]
  },
  {
   "cell_type": "code",
   "execution_count": null,
   "metadata": {},
   "outputs": [],
   "source": [
    "# kürzere code lines (pylint)\n",
    "\n",
    "# h5f files abhängig von packages\n",
    "    # lieber np arrays zum archivieren\n",
    "\n",
    "# Tests\n",
    "    # Regression Tests: \n",
    "        # 1. finaler Code: Ergebnis speichern, \n",
    "        # nach Code Änderungen gucken, ob das gleiche rauskommt\n",
    "        # über mvpa.seed Zufallswert festlegen, sonst entstehen \n",
    "        # jedes mal andere Ergebnisse\n",
    "    # Unit tests\n",
    "        # gucken ob output in richtiger relation zu input\n",
    "        # zb gleiche m x n konfusionsmatrix\n",
    "    # Datenintegritätschecks\n",
    "        # für argument x wirklich eine Liste / str angegeben"
   ]
  }
 ],
 "metadata": {
  "kernelspec": {
   "display_name": "Python 2",
   "language": "python",
   "name": "python2"
  },
  "language_info": {
   "codemirror_mode": {
    "name": "ipython",
    "version": 2
   },
   "file_extension": ".py",
   "mimetype": "text/x-python",
   "name": "python",
   "nbconvert_exporter": "python",
   "pygments_lexer": "ipython2",
   "version": "2.7.17"
  }
 },
 "nbformat": 4,
 "nbformat_minor": 2
}
