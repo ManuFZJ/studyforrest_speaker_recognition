{
 "cells": [
  {
   "cell_type": "code",
   "execution_count": 2,
   "metadata": {},
   "outputs": [],
   "source": [
    "# If an import error occurs try: \n",
    "# pip install attrs==19.1.0\n",
    "# in the cmd\n",
    "from pathlib import Path\n",
    "import numpy as np\n",
    "import pylab as pl\n",
    "from numpy.testing.decorators import skipif\n",
    "import mvpa2.suite as mvpa\n",
    "from mvpa2.measures import rsa\n",
    "import utility_functions as uf"
   ]
  },
  {
   "cell_type": "code",
   "execution_count": 3,
   "metadata": {},
   "outputs": [
    {
     "name": "stdout",
     "output_type": "stream",
     "text": [
      "All directories seem to be properly set up\n",
      "\n",
      "All file lists seem to complete\n",
      "\n"
     ]
    }
   ],
   "source": [
    "# Wider Output\n",
    "np.set_printoptions(edgeitems=20)\n",
    "\n",
    "# Project Directory\n",
    "project_dir = Path.cwd().parents[0]\n",
    "\n",
    "# BOLD Files Directory\n",
    "data_dir = project_dir.joinpath(\"data\", \"studyforrest-data-aligned\")\n",
    "\n",
    "# Anno Files Directory\n",
    "anno_dir = project_dir.joinpath(\"data\", \"studyforrest-data-annotations\")\n",
    "\n",
    "# Template Directory\n",
    "template_dir = project_dir.joinpath(\"data\", \"studyforrest-data-templatetransforms\")\n",
    "\n",
    "# Mask Directory\n",
    "mask_dir = project_dir.joinpath(\"data\", \"masks\")\n",
    "roi_masks_dir = mask_dir.joinpath(\"grp_space\",\"overlap_speakers\")\n",
    "\n",
    "# Get Participant Files\n",
    "ao_files = uf.get_files(data_dir, '*aomovie*nii.gz')\n",
    "av_files = uf.get_files(data_dir, '*avmovie*nii.gz')\n",
    "\n",
    "# Get ROI Files\n",
    "roi_masks_list = uf.get_files(roi_masks_dir, '*.nii.gz')\n",
    "\n",
    "# Get Annotation Files\n",
    "ao_anno_files = uf.get_files(anno_dir, '*emotions*ao*run*.tsv')\n",
    "av_anno_files = uf.get_files(anno_dir, '*emotions*av*run*.tsv')\n",
    "\n",
    "# Reference Space\n",
    "ref = template_dir.joinpath(\"templates\", \"grpbold3Tp2\", \"brain.nii.gz\")\n",
    "\n",
    "# Warp Files\n",
    "warp_files = uf.get_files(template_dir, '*subj2tmpl_warp*.nii.gz')\n",
    "\n",
    "# Check if all components are good to go\n",
    "path_list = [project_dir, data_dir, anno_dir, template_dir, ref]\n",
    "file_lists = [ao_files, av_files, ao_anno_files, av_anno_files, warp_files]\n",
    "\n",
    "check = uf.check_all_components(path_list, file_lists)\n",
    "print(\"{}\\n\".format(check[0]))\n",
    "print(\"{}\\n\".format(check[1]))"
   ]
  },
  {
   "cell_type": "code",
   "execution_count": 6,
   "metadata": {},
   "outputs": [
    {
     "name": "stdout",
     "output_type": "stream",
     "text": [
      "Shape of the dataset: (118, 383565)\n",
      "\n",
      "Mask used: \n",
      "/home/arkani/Desktop/studyforrest_speaker_recognition/data/studyforrest-data-templatetransforms/templates/grpbold3Tp2/brain.nii.gz\n",
      "\n",
      "Included unique events: ['FORREST' 'FORRESTVO' 'JENNY' 'MRSGUMP']\n",
      "Number of included events: 118\n",
      "\n",
      "<DatasetAttributesCollection: imgaffine,imghdr,imgtype,mapper,voxel_dim,voxel_eldim>\n",
      "<FeatureAttributesCollection: anterior temporal,event_offsetidx,ipl,mtg,psts,sts,voxel_indices>\n",
      "<SampleAttributesCollection: chunks,duration,event_onsetidx,onset,orig_duration,orig_offset,orig_onset,participant,targets,time_coords,time_indices>\n"
     ]
    }
   ],
   "source": [
    "# DS\n",
    "ds_save_p = project_dir.joinpath(\"data\",\"tmp\",\"preprocessed_ds.hdf5\")\n",
    "mask = project_dir.joinpath(\"data\",\"studyforrest-data-templatetransforms\",\"templates\",\"grpbold3Tp2\",\"brain.nii.gz\")\n",
    "targets = ['FORREST', 'MRSGUMP', 'FORRESTVO', 'JENNY', 'FORRESTJR', 'BUBBA', 'DAN']\n",
    "roi_info = uf.prepare_roi_info(roi_masks_list)\n",
    "\n",
    "ds = uf.load_create_save_ds(ds_save_p, av_files[0], ref_space=ref, warp_files=warp_files,\n",
    "                            mask=mask, detrending=True, use_zscore=True, use_events=True,\n",
    "                            anno_dir=anno_dir, use_glm_estimates=False, targets=targets,\n",
    "                            event_offset=2, event_dur=4, rois=roi_info)\n",
    "\n",
    "print(\"Shape of the dataset: {}\\n\".format(ds.shape))\n",
    "\n",
    "print(\"Mask used: \\n{}\\n\".format(mask))\n",
    "\n",
    "all_events = ds.sa.targets\n",
    "unique_events = np.unique(all_events)\n",
    "num_events = len(ds.sa.targets)\n",
    "\n",
    "print(\"Included unique events: {}\".format(unique_events))\n",
    "print(\"Number of included events: {}\\n\".format(num_events))\n",
    "\n",
    "print(ds.a)\n",
    "print(ds.fa)\n",
    "print(ds.sa)"
   ]
  },
  {
   "cell_type": "code",
   "execution_count": null,
   "metadata": {},
   "outputs": [],
   "source": [
    "# Aktuelle Probleme\n",
    "    # habe bis jetzt mit den emotion annotations gearbeitet\n",
    "    # speech anno von juseless runterladen\n",
    "        # scp arkarni@juseless:/data/group/psyinf/studyforrest-speechannotation/annotation/fg_rscut_ad_ger_speech_tagged.tsv /home/arkani/Desktop/speech_anno.tsv  \n",
    "        # sollte so doch funktionieren?\n",
    "        \n",
    "    # momentan roi info über Überschneidung mit speakers mask\n",
    "        # diese deckt aber zb nicht den IPL ab\n",
    "        # da dann einfach mit der IPL maske arbeiten?\n",
    "        # lieber durchgehend was besseres als die speakers maske verwenden?\n",
    "        \n",
    "    # wie führe ich die analyse auf dem cluster aus?\n",
    "        # mein rechner schafft ca. 2 Probanden (16 files) vom RAM her\n",
    "        # Analyse in Einzelteile splitten und lokal ausführen?\n",
    "    \n",
    "    # hdf5 files sollen groß werden? (>1.5gb)"
   ]
  },
  {
   "cell_type": "code",
   "execution_count": 28,
   "metadata": {},
   "outputs": [
    {
     "name": "stdout",
     "output_type": "stream",
     "text": [
      "(451, 235)\n",
      "(451, 2)\n"
     ]
    }
   ],
   "source": [
    "print(ds[:, ds.fa.mtg != 0].shape)\n",
    "\n",
    "print(ds_test[:, ds_test.fa.test1 == 1].shape)\n",
    "print(ds_test[:, ds_test.fa.test2 == 1].shape)"
   ]
  },
  {
   "cell_type": "code",
   "execution_count": 25,
   "metadata": {},
   "outputs": [
    {
     "data": {
      "image/png": "[encoded data removed]",
      "text/plain": [
       "<Figure size 432x288 with 2 Axes>"
      ]
     },
     "metadata": {
      "needs_background": "light"
     },
     "output_type": "display_data"
    }
   ],
   "source": [
    "# RSA\n",
    "mtgs = mvpa.mean_group_sample(['targets'])\n",
    "mtds = mtgs(ds)\n",
    "dsm = rsa.PDist(square=True)\n",
    "res = dsm(mtds)\n",
    "\n",
    "## Graphical Results\n",
    "def plot_mtx(mtx, labels, title):\n",
    "    pl.figure()\n",
    "    pl.imshow(mtx, interpolation='nearest')\n",
    "    pl.xticks(range(len(mtx)), labels, rotation=-45)\n",
    "    pl.yticks(range(len(mtx)), labels)\n",
    "    pl.title(title)\n",
    "    pl.clim((0, 2))\n",
    "    pl.colorbar()\n",
    "\n",
    "plot_mtx(res, mtds.sa.targets, 'ROI pattern correlation distances')\n",
    "pl.show()"
   ]
  },
  {
   "cell_type": "code",
   "execution_count": 9,
   "metadata": {},
   "outputs": [],
   "source": [
    "# Normal Classifier Analysis\n",
    "clf = mvpa.kNN(k=1, dfx=mvpa.one_minus_correlation, voting='majority')\n",
    "\n",
    "#clf.train(ds_split1)\n",
    "\n",
    "#predictions = clf.predict(ds_split2.samples)\n",
    "#print(np.mean(predictions == ds_split2.sa.targets))"
   ]
  },
  {
   "cell_type": "code",
   "execution_count": 8,
   "metadata": {},
   "outputs": [
    {
     "name": "stdout",
     "output_type": "stream",
     "text": [
      "[[0.07462687]]\n",
      "0.7780225988700564\n",
      "0.22197740112994352\n",
      "[[0.23728814]\n",
      " [0.20666667]]\n"
     ]
    }
   ],
   "source": [
    "# Testing\n",
    "clf.set_postproc(mvpa.BinaryFxNode(mvpa.mean_mismatch_error, 'targets'))\n",
    "clf.train(ds)\n",
    "err = clf(ds)\n",
    "print(err.samples)\n",
    "\n",
    "clf = mvpa.kNN(k=1, dfx=mvpa.one_minus_correlation, voting='majority')\n",
    "cvte = mvpa.CrossValidation(clf, mvpa.HalfPartitioner(attr='chunks'))\n",
    "cv_results = cvte(ds)\n",
    "print(np.mean(cv_results))\n",
    "\n",
    "cvte = mvpa.CrossValidation(clf, mvpa.HalfPartitioner(attr='chunks'),\n",
    "                       errorfx=lambda p, t: np.mean(p == t))\n",
    "cv_results = cvte(ds)\n",
    "print(np.mean(cv_results))\n",
    "print(cv_results.samples)\n",
    "\n",
    "\n",
    "cvte = mvpa.CrossValidation(clf, mvpa.NFoldPartitioner(cvtype=1), \n",
    "                            errorfx=lambda p, t: np.mean(p == t),\n",
    "                            enable_ca=['stats'])\n",
    "# cv_results = cvte(ds)\n",
    "# print(cvte.ca.stats.as_string(description=True))\n",
    "# print(cvte.ca.stats.matrix)"
   ]
  },
  {
   "cell_type": "code",
   "execution_count": null,
   "metadata": {},
   "outputs": [],
   "source": [
    "# kürzere code lines (pylint)\n",
    "\n",
    "# h5f files abhängig von packages\n",
    "    # lieber np arrays zum archivieren\n",
    "\n",
    "# Tests\n",
    "    # Regression Tests: \n",
    "        # 1. finaler Code: Ergebnis speichern, \n",
    "        # nach Code Änderungen gucken, ob das gleiche rauskommt\n",
    "        # über mvpa.seed Zufallswert festlegen, sonst entstehen \n",
    "        # jedes mal andere Ergebnisse\n",
    "    # Unit tests\n",
    "        # gucken ob output in richtiger relation zu input\n",
    "        # zb gleiche m x n konfusionsmatrix\n",
    "    # Datenintegritätschecks\n",
    "        # für argument x wirklich eine Liste / str angegeben"
   ]
  }
 ],
 "metadata": {
  "kernelspec": {
   "display_name": "Python 2",
   "language": "python",
   "name": "python2"
  },
  "language_info": {
   "codemirror_mode": {
    "name": "ipython",
    "version": 2
   },
   "file_extension": ".py",
   "mimetype": "text/x-python",
   "name": "python",
   "nbconvert_exporter": "python",
   "pygments_lexer": "ipython2",
   "version": "2.7.17"
  }
 },
 "nbformat": 4,
 "nbformat_minor": 2
}
