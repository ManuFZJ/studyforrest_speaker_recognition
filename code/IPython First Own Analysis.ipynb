{
 "cells": [
  {
   "cell_type": "code",
   "execution_count": 2,
   "metadata": {},
   "outputs": [],
   "source": [
    "import utility_functions as uf\n",
    "from pathlib import Path\n",
    "import numpy as np\n",
    "import re\n",
    "import pylab as pl\n",
    "from numpy.testing.decorators import skipif\n",
    "import mvpa2.suite as mvpa\n",
    "from mvpa2.measures import rsa"
   ]
  },
  {
   "cell_type": "code",
   "execution_count": 3,
   "metadata": {},
   "outputs": [
    {
     "name": "stdout",
     "output_type": "stream",
     "text": [
      "BOLD Files Directory found: \n",
      " /home/arkani/Desktop/studyforrest_speaker_recognition/data/studyforrest-data-aligned\n",
      "\n",
      "Annotation Files Directory found: \n",
      " /home/arkani/Desktop/studyforrest_speaker_recognition/data/studyforrest-data-annotations\n",
      "\n"
     ]
    }
   ],
   "source": [
    "# Wider Output\n",
    "np.set_printoptions(edgeitems=20)\n",
    "\n",
    "# Project Directory\n",
    "project_dir = Path.cwd().parents[0]\n",
    "\n",
    "# BOLD Files Directory\n",
    "data_dir = project_dir.joinpath(\"data\", \"studyforrest-data-aligned\")\n",
    "if data_dir.is_dir():\n",
    "    data_dir = project_dir.joinpath(\"data\", \"studyforrest-data-aligned\")\n",
    "    print(\"BOLD Files Directory found: \\n {}\\n\".format(data_dir))\n",
    "else:\n",
    "    print(\"There is something wrong with the Folder Structure of the BOLD Files\\n\")\n",
    "\n",
    "# Anno Files Directory\n",
    "anno_dir = project_dir.joinpath(\"data\", \"studyforrest-data-annotations\")\n",
    "if anno_dir.is_dir():\n",
    "    anno_dir = project_dir.joinpath(\"data\", \"studyforrest-data-annotations\")\n",
    "    print(\"Annotation Files Directory found: \\n {}\\n\".format(anno_dir))\n",
    "else:\n",
    "    print(\"There is something wrong with the Folder Structure of the Annotation Files\\n\")"
   ]
  },
  {
   "cell_type": "code",
   "execution_count": 4,
   "metadata": {},
   "outputs": [
    {
     "name": "stdout",
     "output_type": "stream",
     "text": [
      "BOLD Files Availability Test: \n",
      " all Bold Files are available\n",
      "\n",
      "Annotation Files Availability Test: \n",
      " all Annotation Files are available\n",
      "\n"
     ]
    }
   ],
   "source": [
    "# Get Participant Files\n",
    "ao_files = uf.get_files(data_dir, '*aomovie*nii.gz')\n",
    "av_files = uf.get_files(data_dir, '*avmovie*nii.gz')\n",
    "\n",
    "# Get Annotation Files\n",
    "ao_anno_files = uf.get_files(anno_dir, '*emotions*ao*run*.tsv')\n",
    "av_anno_files = uf.get_files(anno_dir, '*emotions*av*run*.tsv')\n",
    "\n",
    "# Check if all participant files are available\n",
    "if (len(ao_files) == 112 and len(av_files) == 120):\n",
    "    print(\"BOLD Files Availability Test: \\n all Bold Files are available\\n\")\n",
    "elif (len(ao_files) != 112 or len(av_files) != 120):\n",
    "    if (len(ao_files) != 112):\n",
    "        print(\"\"\"BOLD Files Availability Test:\n",
    "              you are missing BOLD Files of the AO-Movie Runs\\n\"\"\")\n",
    "    elif (len(av_files) != 120):\n",
    "        print(\"\"\"BOLD Files Availability Test:\n",
    "              you are missing BOLD Files of the AV-Movie Runs\\n\"\"\")\n",
    "\n",
    "# Check if all annotation files are available\n",
    "if (len(ao_anno_files) == 8 and len(av_anno_files) == 8):\n",
    "    print(\"Annotation Files Availability Test: \\n all Annotation Files are available\\n\")\n",
    "elif (len(ao_anno_files) != 8 or len(av_anno_files) != 8):\n",
    "    if (len(ao_anno_files) != 8):\n",
    "        print(\"\"\"Annotation Files Availability Test:\n",
    "        you are missing Annotation Files of the AO-Movie Runs\\n\"\"\")\n",
    "    elif (len(av_anno_files) != 8):\n",
    "        print(\"\"\"Annotation Files Availability Test:\n",
    "        you are missing Annotation Files of the AV-Movie Runs\\n\"\"\")"
   ]
  },
  {
   "cell_type": "code",
   "execution_count": 6,
   "metadata": {},
   "outputs": [
    {
     "name": "stdout",
     "output_type": "stream",
     "text": [
      "This is the Dataset that will be used in the following Analysis:\n",
      "<Dataset: 4x96888@float64, <sa: regressors,targets>, <fa: voxel_indices>, <a: add_regs,imgaffine,imghdr,imgtype,mapper,voxel_dim,voxel_eldim>>\n",
      "\n",
      "Used mask file: \n",
      "/home/arkani/Desktop/studyforrest_speaker_recognition/data/speakers_association-test_z_FDR_0.01.nii.gz\n",
      "\n",
      "<SampleAttributesCollection: regressors,targets>\n",
      "<FeatureAttributesCollection: voxel_indices>\n",
      "<DatasetAttributesCollection: add_regs,imgaffine,imghdr,imgtype,mapper,voxel_dim,voxel_eldim>\n",
      "\n",
      "GLM Estimates were computed for the following targets: ['FORREST' 'FORRESTVO' 'JENNY' 'MRSGUMP']\n",
      "\n"
     ]
    }
   ],
   "source": [
    "## MVPA (GLM Estimates)\n",
    "    # useful when: multiple concurrent signals are overlapping in time, such as in \n",
    "    # fast event-related designs\n",
    "    # GLM estimates instead of raw data\n",
    "    \n",
    "# Create Datset\n",
    "mask_files = uf.get_files(project_dir, '*association*.nii.gz')\n",
    "mask = mask_files[0]\n",
    "targets = ['FORREST', 'MRSGUMP', 'FORRESTVO', 'FORRESTJR', 'BUBBA', 'DAN', 'JENNY']\n",
    "ds = uf.preprocess_datasets(ao_files[0], mask=mask, detrending=True, use_zscore=True,\n",
    "                            use_events=True, anno_dir=anno_dir, use_glm_estimates=True,\n",
    "                            targets=targets, event_offset=2, event_dur=6)\n",
    "\n",
    "print(\"This is the Dataset that will be used in the following Analysis:\")\n",
    "print(\"{}\\n\".format(ds))\n",
    "\n",
    "print(\"Used mask file: \\n{}\\n\".format(mask))\n",
    "print(ds.sa)\n",
    "print(ds.fa)\n",
    "print(ds.a)\n",
    "\n",
    "print(\"\\nGLM Estimates were computed for the following targets: {}\\n\".format(ds.sa.targets))\n",
    "\n",
    "# cross-validation Analysis with a chosen Classifier\n",
    "clf = mvpa.kNN(k=1, dfx=mvpa.one_minus_correlation, voting='majority')\n",
    "cv = mvpa.CrossValidation(clf, mvpa.NFoldPartitioner(attr='chunks'))\n",
    "# cv_glm = cv(ds)\n",
    "# print('%.2f' % np.mean(cv_glm))"
   ]
  },
  {
   "cell_type": "code",
   "execution_count": 10,
   "metadata": {},
   "outputs": [
    {
     "name": "stdout",
     "output_type": "stream",
     "text": [
      "This is the Dataset that will be used in the following Analysis:\n",
      "<Dataset: 24x387552@float64, <sa: chunks,duration,event_onsetidx,onset,orig_duration,orig_offset,orig_onset,participant,targets,time_coords,time_indices>, <fa: event_offsetidx,voxel_indices>, <a: ...>\n",
      "\n",
      "Used mask file: \n",
      "/home/arkani/Desktop/studyforrest_speaker_recognition/data/speakers_association-test_z_FDR_0.01.nii.gz\n",
      "\n",
      "<SampleAttributesCollection: chunks,duration,event_onsetidx,onset,orig_duration,orig_offset,orig_onset,participant,targets,time_coords,time_indices>\n",
      "<FeatureAttributesCollection: event_offsetidx,voxel_indices>\n",
      "<DatasetAttributesCollection: imgaffine,imghdr,imgtype,mapper,voxel_dim,voxel_eldim>\n",
      "\n",
      "The following events will be included: ['MRSGUMP' 'MRSGUMP' 'MRSGUMP' 'FORRESTVO' 'MRSGUMP' 'MRSGUMP' 'MRSGUMP'\n",
      " 'MRSGUMP' 'MRSGUMP' 'FORRESTVO' 'FORRESTVO' 'FORRESTVO' 'MRSGUMP'\n",
      " 'FORREST' 'FORRESTVO' 'FORREST' 'FORRESTVO' 'FORRESTVO' 'FORRESTVO'\n",
      " 'FORRESTVO' 'JENNY' 'JENNY' 'JENNY' 'FORRESTVO']\n",
      "\n"
     ]
    }
   ],
   "source": [
    "## MVPA (raw Signal)\n",
    "# Create Datset\n",
    "mask_files = uf.get_files(project_dir, '*association*.nii.gz')\n",
    "mask = mask_files[0]\n",
    "targets = ['FORREST', 'MRSGUMP', 'FORRESTVO', 'FORRESTJR', 'BUBBA', 'DAN', 'JENNY']\n",
    "ds = uf.preprocess_datasets(ao_files[0], mask=mask, detrending=True, use_zscore=True,\n",
    "                            use_events=True, anno_dir=anno_dir, use_glm_estimates=False,\n",
    "                            targets=targets, event_offset=2, event_dur=6)\n",
    "\n",
    "print(\"This is the Dataset that will be used in the following Analysis:\")\n",
    "print(\"{}\\n\".format(ds))\n",
    "\n",
    "print(\"Used mask file: \\n{}\\n\".format(mask))\n",
    "print(ds.sa)\n",
    "print(ds.fa)\n",
    "print(ds.a)\n",
    "\n",
    "print(\"\\nThe following events will be included: {}\\n\".format(ds.sa.targets))\n",
    "\n",
    "# cross-validation analysis with a chosen classifier\n",
    "sclf = mvpa.SplitClassifier(mvpa.LinearCSVMC(), enable_ca=['stats'])\n",
    "sensana = sclf.get_sensitivity_analyzer()\n",
    "# sens = sensana(ds)\n",
    "# print(sens)"
   ]
  },
  {
   "cell_type": "code",
   "execution_count": 13,
   "metadata": {},
   "outputs": [
    {
     "name": "stdout",
     "output_type": "stream",
     "text": [
      "This is the Dataset that will be used in the following Analysis:\n",
      "<Dataset: 24x387552@float64, <sa: chunks,duration,event_onsetidx,onset,orig_duration,orig_offset,orig_onset,participant,targets,time_coords,time_indices>, <fa: event_offsetidx,voxel_indices>, <a: ...>\n",
      "\n",
      "Used mask file: \n",
      "/home/arkani/Desktop/studyforrest_speaker_recognition/data/speakers_association-test_z_FDR_0.01.nii.gz\n",
      "\n",
      "<SampleAttributesCollection: chunks,duration,event_onsetidx,onset,orig_duration,orig_offset,orig_onset,participant,targets,time_coords,time_indices>\n",
      "<FeatureAttributesCollection: event_offsetidx,voxel_indices>\n",
      "<DatasetAttributesCollection: imgaffine,imghdr,imgtype,mapper,voxel_dim,voxel_eldim>\n",
      "\n",
      "The following events will be included: ['MRSGUMP' 'MRSGUMP' 'MRSGUMP' 'FORRESTVO' 'MRSGUMP' 'MRSGUMP' 'MRSGUMP'\n",
      " 'MRSGUMP' 'MRSGUMP' 'FORRESTVO' 'FORRESTVO' 'FORRESTVO' 'MRSGUMP'\n",
      " 'FORREST' 'FORRESTVO' 'FORREST' 'FORRESTVO' 'FORRESTVO' 'FORRESTVO'\n",
      " 'FORRESTVO' 'JENNY' 'JENNY' 'JENNY' 'FORRESTVO']\n",
      "\n"
     ]
    },
    {
     "data": {
      "image/png": "[encoded data removed]",
      "text/plain": [
       "<Figure size 432x288 with 2 Axes>"
      ]
     },
     "metadata": {
      "needs_background": "light"
     },
     "output_type": "display_data"
    }
   ],
   "source": [
    "## RSA\n",
    "# Create Datset\n",
    "mask_files = uf.get_files(project_dir, '*association*.nii.gz')\n",
    "mask = mask_files[0]\n",
    "targets = ['FORREST', 'MRSGUMP', 'FORRESTVO', 'FORRESTJR', 'BUBBA', 'DAN', 'JENNY']\n",
    "ds = uf.preprocess_datasets(ao_files[0], mask=mask, detrending=True, use_zscore=True,\n",
    "                            use_events=True, anno_dir=anno_dir, use_glm_estimates=False, \n",
    "                            targets=targets, event_offset=2, event_dur=6)\n",
    "\n",
    "print(\"This is the Dataset that will be used in the following Analysis:\")\n",
    "print(\"{}\\n\".format(ds))\n",
    "\n",
    "print(\"Used mask file: \\n{}\\n\".format(mask))\n",
    "print(ds.sa)\n",
    "print(ds.fa)\n",
    "print(ds.a)\n",
    "\n",
    "print(\"\\nThe following events will be included: {}\\n\".format(ds.sa.targets))\n",
    "\n",
    "# ROI RSA\n",
    "mtgs = mvpa.mean_group_sample(['targets'])\n",
    "mtds = mtgs(ds)\n",
    "dsm = rsa.PDist(square=True)\n",
    "res = dsm(mtds)\n",
    "\n",
    "## Graphical Results\n",
    "def plot_mtx(mtx, labels, title):\n",
    "    pl.figure()\n",
    "    pl.imshow(mtx, interpolation='nearest')\n",
    "    pl.xticks(range(len(mtx)), labels, rotation=-45)\n",
    "    pl.yticks(range(len(mtx)), labels)\n",
    "    pl.title(title)\n",
    "    pl.clim((0, 2))\n",
    "    pl.colorbar()\n",
    "\n",
    "plot_mtx(res, mtds.sa.targets, 'ROI pattern correlation distances')\n",
    "pl.show()"
   ]
  },
  {
   "cell_type": "code",
   "execution_count": null,
   "metadata": {},
   "outputs": [],
   "source": [
    "# kürzere code lines (pyflakes)\n",
    "\n",
    "# mehr tests in funktionen einbauen\n",
    "\n",
    "# wichtige directories hierbei\n",
    "    # /home/arkani/Desktop/studyforrest_speaker_recognition/data/studyforrest-data-templatetransforms/\n",
    "    # /usr/share/data/\n",
    "        # hier liegen die MNI etc Templates\n",
    "        \n",
    "# Vorgehensweise\n",
    "    # jeden einzelnen Run mit dem jeweiligen Template für den Run in den Gruppenspace\n",
    "        # sind momentan alle nur innerhalb der VP aligned\n",
    "    # vom Gruppenspace in den MNI-Space\n",
    "    # dann funktioniert die brain mask von neurosynth direkt (MNI)\n",
    "\n",
    "\n",
    "# Bsp. BOLD: /home/arkani/Desktop/studyforrest_speaker_recognition/data/studyforrest-data-aligned/sub-01/in_bold3Tp2/sub-01_task-aomovie_run-1_bold.nii.gz\n",
    "# Bsp. Warp: /home/arkani/Desktop/studyforrest_speaker_recognition/data/studyforrest-data-templatetransforms/sub-01/bold3Tp2/in_grpbold3Tp2/subj2tmpl_warp.nii.gz\n",
    "\n",
    "# GrpBrainRef: /home/arkani/Desktop/studyforrest_speaker_recognition/data/studyforrest-data-templatetransforms/sub-01/bold3Tp2/in_grpbold3Tp2/head.nii.gz\n",
    "# MNIBrainRef: /usr/share/data/fsl-mni152-templates/MNI152_T1_2mm_brain.nii.gz\n",
    "\n",
    "# Warp2GrpSpace: /home/arkani/Desktop/studyforrest_speaker_recognition/data/studyforrest-data-templatetransforms/sub-01/bold3Tp2/in_grpbold3Tp2/subj2tmpl_warp.nii.gz\n",
    "    # different for every subject\n",
    "# Warp2MNISpace: /home/arkani/Desktop/studyforrest_speaker_recognition/data/studyforrest-data-templatetransforms/templates/grpbold3Tp2/in_mni/brain_12dof.nii.gz\n",
    "\n",
    "# VP1_AO_Run1_GrpSpace: /home/arkani/Desktop/VP1_AO_Run1_GrpSpace.nii.gz\n",
    "# VP1_AO_Run1_MNISpace: /home/arkani/Desktop/VP1_AO_Run1_MNISpace.nii.gz"
   ]
  },
  {
   "cell_type": "code",
   "execution_count": null,
   "metadata": {},
   "outputs": [],
   "source": [
    "# To Group Space\n",
    "applywarp --ref=\"/home/arkani/Desktop/studyforrest_speaker_recognition/data/studyforrest-data-templatetransforms/sub-01/bold3Tp2/in_grpbold3Tp2/head.nii.gz\" --in=\"/home/arkani/Desktop/studyforrest_speaker_recognition/data/studyforrest-data-aligned/sub-01/in_bold3Tp2/sub-01_task-aomovie_run-1_bold.nii.gz\" --out=\"/home/arkani/Desktop/warp_test.nii.gz\" --warp=\"/home/arkani/Desktop/studyforrest_speaker_recognition/data/studyforrest-data-templatetransforms/sub-01/bold3Tp2/in_grpbold3Tp2/subj2tmpl_warp.nii.gz\"\n",
    "\n",
    "# Straight to MNI?\n",
    "applywarp --ref=\"/usr/share/data/fsl-mni152-templates/MNI152_T1_2mm_brain.nii.gz\" --in=\"/home/arkani/Desktop/studyforrest_speaker_recognition/data/studyforrest-data-aligned/sub-01/in_bold3Tp2/sub-01_task-aomovie_run-1_bold.nii.gz\" --out=\"straight_2_mni_test\" --warp=\"/home/arkani/Desktop/studyforrest_speaker_recognition/data/studyforrest-data-templatetransforms/sub-01/bold3Tp2/in_grpbold3Tp2/subj2tmpl_warp.nii.gz\" --premat=\"brain_12dof.nii.gz\""
   ]
  }
 ],
 "metadata": {
  "kernelspec": {
   "display_name": "Python 2",
   "language": "python",
   "name": "python2"
  },
  "language_info": {
   "codemirror_mode": {
    "name": "ipython",
    "version": 2
   },
   "file_extension": ".py",
   "mimetype": "text/x-python",
   "name": "python",
   "nbconvert_exporter": "python",
   "pygments_lexer": "ipython2",
   "version": "2.7.17"
  }
 },
 "nbformat": 4,
 "nbformat_minor": 2
}
